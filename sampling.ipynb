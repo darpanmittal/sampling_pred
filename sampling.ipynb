{
 "cells": [
  {
   "cell_type": "code",
   "execution_count": 84,
   "metadata": {},
   "outputs": [],
   "source": [
    "from sklearn.model_selection import train_test_split\n",
    "from sklearn.metrics import accuracy_score\n",
    "from imblearn.under_sampling import RandomUnderSampler, TomekLinks, NearMiss\n",
    "from imblearn.over_sampling import RandomOverSampler, SMOTE\n",
    "from sklearn.tree import DecisionTreeClassifier\n",
    "from sklearn.ensemble import RandomForestClassifier\n",
    "from sklearn.linear_model import LogisticRegression\n",
    "from sklearn.svm import SVC\n",
    "from sklearn.ensemble import ExtraTreesClassifier\n",
    "from sklearn.neighbors import KNeighborsClassifier\n",
    "import numpy as np\n",
    "import pandas as pd\n",
    "from sklearn.ensemble import GradientBoostingClassifier\n",
    "from sklearn.ensemble import AdaBoostClassifier"
   ]
  },
  {
   "cell_type": "code",
   "execution_count": 85,
   "metadata": {},
   "outputs": [],
   "source": [
    "url = 'https://raw.githubusercontent.com/AnjulaMehto/Sampling_Assignment/main/Creditcard_data.csv'\n",
    "data = pd.read_csv(url)"
   ]
  },
  {
   "cell_type": "code",
   "execution_count": 86,
   "metadata": {},
   "outputs": [],
   "source": [
    "X = data.drop('Class', axis=1)\n",
    "y = data['Class']"
   ]
  },
  {
   "cell_type": "code",
   "execution_count": 87,
   "metadata": {},
   "outputs": [],
   "source": [
    "X_train, X_test, y_train, y_test = train_test_split(X, y, test_size=0.2, random_state=42)"
   ]
  },
  {
   "cell_type": "code",
   "execution_count": 88,
   "metadata": {},
   "outputs": [],
   "source": [
    "conf = 1.96  # 95% confidence interval\n",
    "error = 0.05  # margin of error"
   ]
  },
  {
   "cell_type": "code",
   "execution_count": 89,
   "metadata": {},
   "outputs": [],
   "source": [
    "n1 = int(np.ceil((conf**2 * 0.5 * 0.5) / (error**2)))\n",
    "n2 = int(np.ceil((conf**2 * 0.05 * (1-0.05)) / (error**2)))\n",
    "n3 = int(np.ceil((conf**2 * 0.05 * (1-0.05)) / (error**2)))\n",
    "n4 = int(np.ceil((conf**2 * 0.05 * (1-0.05)) / (error**2)))\n",
    "n5 = int(np.ceil((conf**2 * 0.05 * (1-0.05)) / (error**2)))"
   ]
  },
  {
   "cell_type": "code",
   "execution_count": 90,
   "metadata": {},
   "outputs": [],
   "source": [
    "slr1 = RandomUnderSampler(sampling_strategy='majority', random_state=42)\n",
    "slr2 = RandomOverSampler(sampling_strategy='minority', random_state=42)\n",
    "slr3 = SMOTE(sampling_strategy='minority', random_state=42)\n",
    "slr4 = TomekLinks(sampling_strategy='majority')\n",
    "slr5 = NearMiss(version=3, n_neighbors=3)"
   ]
  },
  {
   "cell_type": "code",
   "execution_count": 91,
   "metadata": {},
   "outputs": [],
   "source": [
    "mdl1 = GradientBoostingClassifier()\n",
    "mdl2 = AdaBoostClassifier(n_estimators=100, random_state=42)\n",
    "mdl3 = RandomForestClassifier(random_state=42)\n",
    "mdl4 = SVC(random_state=42)\n",
    "mdl5 = KNeighborsClassifier(n_neighbors=3)"
   ]
  },
  {
   "cell_type": "code",
   "execution_count": 92,
   "metadata": {},
   "outputs": [],
   "source": [
    "samplers = {\n",
    "    'Sampling1': slr1,\n",
    "    'Sampling2': slr2,\n",
    "    'Sampling3': slr3,\n",
    "    'Sampling4': slr4,\n",
    "    'Sampling5': slr5,\n",
    "}"
   ]
  },
  {
   "cell_type": "code",
   "execution_count": 93,
   "metadata": {},
   "outputs": [],
   "source": [
    "models = {\n",
    "    'M1': mdl1,\n",
    "    'M2': mdl2,\n",
    "    'M3': mdl3,\n",
    "    'M4': mdl4,\n",
    "    'M5': mdl5,\n",
    "}"
   ]
  },
  {
   "cell_type": "code",
   "execution_count": 94,
   "metadata": {},
   "outputs": [],
   "source": [
    "results = {}\n",
    "for sampler_name, sampler in samplers.items():\n",
    "    if sampler_name == 'Sampling1':\n",
    "        n = n1\n",
    "    elif sampler_name == 'Sampling2':\n",
    "        n = n2\n",
    "    elif sampler_name == 'Sampling3':\n",
    "        n = n3\n",
    "    elif sampler_name == 'Sampling4':\n",
    "        n = n4\n",
    "    else:\n",
    "        n = n5\n",
    "\n",
    "    \n",
    "    X_resampled, y_resampled = sampler.fit_resample(X_train, y_train)\n",
    "    \n",
    "    \n",
    "    if len(X_resampled) > n:\n",
    "        X_resampled = X_resampled[:n]\n",
    "        y_resampled = y_resampled[:n]\n",
    "    \n",
    "    for model_name, model in models.items():\n",
    "        \n",
    "        model.fit(X_resampled, y_resampled)\n",
    "        \n",
    "        \n",
    "        y_pred = model.predict(X_test)\n",
    "        \n",
    "        \n",
    "        accuracy = accuracy_score(y_test, y_pred)\n",
    "        \n",
    "        \n",
    "        if model_name in results:\n",
    "            results[model_name][sampler_name] = accuracy\n",
    "        else:\n",
    "            results[model_name] = {sampler_name: accuracy}\n",
    "            "
   ]
  },
  {
   "cell_type": "code",
   "execution_count": 95,
   "metadata": {},
   "outputs": [
    {
     "name": "stdout",
     "output_type": "stream",
     "text": [
      "Results:\n",
      "        Sampling1   Sampling2   Sampling3   Sampling4   Sampling5\n",
      "M1    0.5742       0.9871       0.9742       0.9871       0.8452   \n",
      "M2    0.5742       0.9935       0.9935       0.9935       0.6194   \n",
      "M3    0.7097       0.9935       0.9935       0.9935       0.7677   \n",
      "M4    0.6258       0.9935       0.9935       0.9935       0.5161   \n",
      "M5    0.8258       0.9935       0.9935       0.9935       0.5871   \n"
     ]
    }
   ],
   "source": [
    "\n",
    "print('Results for different models and samples:')\n",
    "print('        Sampling1   Sampling2   Sampling3   Sampling4   Sampling5')\n",
    "for model_name, model_results in results.items():\n",
    "    print(model_name, end='')\n",
    "    for sampler_name in samplers.keys():\n",
    "        if sampler_name in model_results:\n",
    "            print(f'    {model_results[sampler_name]:.4f}   ', end='')\n",
    "        else:\n",
    "            print('              ', end='')\n",
    "    print() "
   ]
  },
  {
   "cell_type": "code",
   "execution_count": null,
   "metadata": {},
   "outputs": [],
   "source": []
  },
  {
   "cell_type": "code",
   "execution_count": null,
   "metadata": {},
   "outputs": [],
   "source": []
  }
 ],
 "metadata": {
  "kernelspec": {
   "display_name": "Python 3 (ipykernel)",
   "language": "python",
   "name": "python3"
  },
  "language_info": {
   "codemirror_mode": {
    "name": "ipython",
    "version": 3
   },
   "file_extension": ".py",
   "mimetype": "text/x-python",
   "name": "python",
   "nbconvert_exporter": "python",
   "pygments_lexer": "ipython3",
   "version": "3.9.7"
  },
  "vscode": {
   "interpreter": {
    "hash": "916dbcbb3f70747c44a77c7bcd40155683ae19c65e1c03b4aa3499c5328201f1"
   }
  }
 },
 "nbformat": 4,
 "nbformat_minor": 2
}
